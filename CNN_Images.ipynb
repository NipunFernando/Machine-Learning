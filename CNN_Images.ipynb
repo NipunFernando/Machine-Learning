import imageio
import matplotlib.pyplot as plt
%matplotlib inline

# Read image
im = imageio.imread("./Figures/chapel.jpg")
print("Shape of the image tensor: {}".format(im.shape))
plt.imshow(im)
