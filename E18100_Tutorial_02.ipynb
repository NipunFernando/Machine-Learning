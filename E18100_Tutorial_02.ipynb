{
  "nbformat": 4,
  "nbformat_minor": 0,
  "metadata": {
    "colab": {
      "provenance": [],
      "gpuType": "T4",
      "authorship_tag": "ABX9TyMiZuL5eq1Clz4aelnncDDo",
      "include_colab_link": true
    },
    "kernelspec": {
      "name": "python3",
      "display_name": "Python 3"
    },
    "language_info": {
      "name": "python"
    },
    "accelerator": "GPU",
    "gpuClass": "standard"
  },
  "cells": [
    {
      "cell_type": "markdown",
      "metadata": {
        "id": "view-in-github",
        "colab_type": "text"
      },
      "source": [
        "<a href=\"https://colab.research.google.com/github/NipunFernando/Machine-Learning/blob/main/E18100_Tutorial_02.ipynb\" target=\"_parent\"><img src=\"https://colab.research.google.com/assets/colab-badge.svg\" alt=\"Open In Colab\"/></a>"
      ]
    },
    {
      "cell_type": "code",
      "execution_count": 16,
      "metadata": {
        "id": "9lFJpmjhho9g",
        "colab": {
          "base_uri": "https://localhost:8080/"
        },
        "outputId": "b3c99379-dd0f-4375-bdf0-4b15e76ee72e"
      },
      "outputs": [
        {
          "output_type": "stream",
          "name": "stdout",
          "text": [
            "Ones tensor : \n",
            " tensor([[1, 1],\n",
            "        [1, 1]])\n",
            "\n",
            "Random tensor : \n",
            " tensor([[0.1518, 0.9617],\n",
            "        [0.9317, 0.7599]]) \n",
            "\n",
            "Random Tensor: \n",
            " tensor([[0.2075, 0.3323, 0.4279],\n",
            "        [0.6590, 0.4080, 0.5021]]) \n",
            "\n",
            "Ones Tensor: \n",
            " tensor([[1., 1., 1.],\n",
            "        [1., 1., 1.]]) \n",
            "\n",
            "Zeros Tensor: \n",
            " tensor([[0., 0., 0.],\n",
            "        [0., 0., 0.]])\n",
            "Shape of tensor: torch.Size([3, 4])\n",
            "Datatype of tensor: torch.float32\n",
            "Device tensor is stored on: cpu\n",
            "Available (Cuda) GPU : Moving tensor to Cuda\n",
            "Device tensor is stored on: cuda:0\n",
            "First row: tensor([0.7045, 0.7485, 0.7644, 0.3506])\n",
            "First column: tensor([0.7045, 0.3395, 0.1419, 0.5732])\n",
            "First column: tensor([0.7045, 0.3395, 0.1419, 0.5732])\n",
            "Last column: tensor([0.3506, 0.8378, 0.0401, 0.1189])\n",
            "tensor([[0.7045, 0.0000, 0.7644, 0.3506],\n",
            "        [0.3395, 0.0000, 0.1952, 0.8378],\n",
            "        [0.1419, 0.0000, 0.2175, 0.0401],\n",
            "        [0.5732, 0.0000, 0.8172, 0.1189]])\n",
            "tensor([[0.7045, 0.0000, 0.7644, 0.3506],\n",
            "        [0.3395, 0.0000, 0.1952, 0.8378],\n",
            "        [0.1419, 0.0000, 0.2175, 0.0401],\n",
            "        [0.5732, 0.0000, 0.8172, 0.1189]]) \n",
            "\n",
            "tensor([[5.7045, 5.0000, 5.7644, 5.3506],\n",
            "        [5.3395, 5.0000, 5.1952, 5.8378],\n",
            "        [5.1419, 5.0000, 5.2175, 5.0401],\n",
            "        [5.5732, 5.0000, 5.8172, 5.1189]])\n",
            "Arithmetic Operations\n",
            "---------------------\n"
          ]
        },
        {
          "output_type": "execute_result",
          "data": {
            "text/plain": [
              "tensor([[119.3988, 116.6423, 111.3759, 117.7147],\n",
              "        [116.6423, 114.5804, 108.9847, 114.8632],\n",
              "        [111.3759, 108.9847, 104.0649, 109.8087],\n",
              "        [117.7147, 114.8632, 109.8087, 116.1044]])"
            ]
          },
          "metadata": {},
          "execution_count": 16
        }
      ],
      "source": [
        "# Imports\n",
        "import torch\n",
        "import numpy as np\n",
        "\n",
        "# Creating a tensor from a 2D array\n",
        "data = [[1,2],[3,4]]\n",
        "x_data = torch.tensor(data)\n",
        "\n",
        "# Creating a tensor from a NumPy array\n",
        "np_array = np.array(data)\n",
        "x_np = torch.from_numpy(np_array)\n",
        "\n",
        "# Ceating a tensor from other tensors\n",
        "x_ones = torch.ones_like(x_data) # Retains the properties of x_data (shape, datatype)\n",
        "print(f\"Ones tensor : \\n {x_ones}\\n\")\n",
        "\n",
        "x_rand = torch.rand_like(x_data, dtype = torch.float) # Overrides data type\n",
        "print(f\"Random tensor : \\n {x_rand} \\n\")\n",
        "\n",
        "\n",
        "shape = (2,3,)\n",
        "rand_tensor = torch.rand(shape)\n",
        "ones_tensor = torch.ones(shape)\n",
        "zeros_tensor = torch.zeros(shape)\n",
        "print(f\"Random Tensor: \\n {rand_tensor} \\n\")\n",
        "print(f\"Ones Tensor: \\n {ones_tensor} \\n\")\n",
        "print(f\"Zeros Tensor: \\n {zeros_tensor}\")\n",
        "\n",
        "\n",
        "tensor = torch.rand(3,4)\n",
        "print(f\"Shape of tensor: {tensor.shape}\")\n",
        "print(f\"Datatype of tensor: {tensor.dtype}\")\n",
        "print(f\"Device tensor is stored on: {tensor.device}\")\n",
        "\n",
        "\n",
        "# We move our tensor to the GPU if available\n",
        "if torch.cuda.is_available():\n",
        "  print(\"Available (Cuda) GPU : Moving tensor to Cuda\")\n",
        "  tensor = tensor.to(\"cuda\")\n",
        "\n",
        "print(f\"Device tensor is stored on: {tensor.device}\")\n",
        "\n",
        "#Standard numpy-like indexing and slicing\n",
        "tensor = torch.rand(4, 4)\n",
        "print(f\"First row: {tensor[0]}\")\n",
        "print(f\"First column: {tensor[:, 0]}\")\n",
        "print(f\"First column: {tensor[..., 0]}\")\n",
        "print(f\"Last column: {tensor[..., -1]}\")\n",
        "tensor[:,1] = 0\n",
        "print(tensor)\n",
        "\n",
        "#Standard numpy-like indexing and slicing\n",
        "print(f\"{tensor} \\n\")\n",
        "tensor.add_(5)\n",
        "print(tensor)\n",
        "\n",
        "\n",
        "print(\"Arithmetic Operations\")\n",
        "print(\"---------------------\")\n",
        "#Arithmetic operations\n",
        "# This computes the matrix multiplication between two tensors.\n",
        "# y1, y2, y3 will have the same value\n",
        "# ‘‘tensor.T‘‘ returns the transpose of a tensor\n",
        "y1 = tensor @ tensor.T\n",
        "y2 = tensor.matmul(tensor.T)\n",
        "y3 = torch.rand_like(y1)\n",
        "torch.matmul(tensor, tensor.T, out=y3)\n",
        "# This computes the element-wise product. z1, z2, z3 will have the same value\n",
        "z1 = tensor * tensor\n",
        "z2 = tensor.mul(tensor)\n",
        "z3 = torch.rand_like(tensor)\n",
        "torch.mul(tensor, tensor, out=z3)\n",
        "\n",
        "\n",
        "\n"
      ]
    },
    {
      "cell_type": "code",
      "source": [
        "# Loading a Dataset\n",
        "import torch\n",
        "import torchvision\n",
        "import numpy as np\n",
        "import torch.nn as nn\n",
        "import matplotlib.pyplot as plt\n",
        "from torch.utils.data import DataLoader\n",
        "import torchvision.transforms as transforms\n",
        "\n",
        "\n",
        "train_dataset = torchvision.datasets.MNIST(\n",
        "root='./data',\n",
        "train=True,\n",
        "download=True,\n",
        "transform=transforms.ToTensor()\n",
        ")\n",
        "\n",
        "\n",
        "test_dataset = torchvision.datasets.MNIST(\n",
        "root='./data',\n",
        "train=False,\n",
        "download=True,\n",
        "transform=transforms.ToTensor()\n",
        ")\n",
        "\n",
        "# Iterating and Visualizing the Dataset\n",
        "# Define a function to create a grid of images\n",
        "def create_image_grid(images, labels, rows, cols):\n",
        "  fig, axs = plt.subplots(rows, cols, figsize=(5, 3))\n",
        "  for i in range(rows):\n",
        "    for j in range(cols):\n",
        "      axs[i, j].imshow(images[i*cols+j].squeeze(), cmap='gray')\n",
        "      axs[i, j].set_title(f\"Label: {labels[i*cols+j]}\")\n",
        "      axs[i, j].axis('off')\n",
        "  plt.tight_layout()\n",
        "  plt.show()\n",
        "\n",
        "# Select a random subset of images and labels from the dataset\n",
        "indices = np.random.choice(range(len(train_dataset)), size=6, replace=False)\n",
        "images = [train_dataset[i][0] for i in indices]\n",
        "labels = [train_dataset[i][1] for i in indices]\n",
        "create_image_grid(images, labels, rows=2, cols=3)\n"
      ],
      "metadata": {
        "colab": {
          "base_uri": "https://localhost:8080/",
          "height": 675
        },
        "id": "qTZ_YxXmKOfX",
        "outputId": "31b0f10a-a602-4229-9a7e-1f9f67091fc3"
      },
      "execution_count": 17,
      "outputs": [
        {
          "output_type": "stream",
          "name": "stdout",
          "text": [
            "Downloading http://yann.lecun.com/exdb/mnist/train-images-idx3-ubyte.gz\n",
            "Downloading http://yann.lecun.com/exdb/mnist/train-images-idx3-ubyte.gz to ./data/MNIST/raw/train-images-idx3-ubyte.gz\n"
          ]
        },
        {
          "output_type": "stream",
          "name": "stderr",
          "text": [
            "100%|██████████| 9912422/9912422 [00:00<00:00, 188516070.61it/s]"
          ]
        },
        {
          "output_type": "stream",
          "name": "stdout",
          "text": [
            "Extracting ./data/MNIST/raw/train-images-idx3-ubyte.gz to ./data/MNIST/raw\n"
          ]
        },
        {
          "output_type": "stream",
          "name": "stderr",
          "text": [
            "\n"
          ]
        },
        {
          "output_type": "stream",
          "name": "stdout",
          "text": [
            "\n",
            "Downloading http://yann.lecun.com/exdb/mnist/train-labels-idx1-ubyte.gz\n",
            "Downloading http://yann.lecun.com/exdb/mnist/train-labels-idx1-ubyte.gz to ./data/MNIST/raw/train-labels-idx1-ubyte.gz\n"
          ]
        },
        {
          "output_type": "stream",
          "name": "stderr",
          "text": [
            "100%|██████████| 28881/28881 [00:00<00:00, 116588733.23it/s]\n"
          ]
        },
        {
          "output_type": "stream",
          "name": "stdout",
          "text": [
            "Extracting ./data/MNIST/raw/train-labels-idx1-ubyte.gz to ./data/MNIST/raw\n",
            "\n",
            "Downloading http://yann.lecun.com/exdb/mnist/t10k-images-idx3-ubyte.gz\n",
            "Downloading http://yann.lecun.com/exdb/mnist/t10k-images-idx3-ubyte.gz to ./data/MNIST/raw/t10k-images-idx3-ubyte.gz\n"
          ]
        },
        {
          "output_type": "stream",
          "name": "stderr",
          "text": [
            "100%|██████████| 1648877/1648877 [00:00<00:00, 70082602.67it/s]"
          ]
        },
        {
          "output_type": "stream",
          "name": "stdout",
          "text": [
            "Extracting ./data/MNIST/raw/t10k-images-idx3-ubyte.gz to ./data/MNIST/raw\n",
            "\n",
            "Downloading http://yann.lecun.com/exdb/mnist/t10k-labels-idx1-ubyte.gz\n"
          ]
        },
        {
          "output_type": "stream",
          "name": "stderr",
          "text": [
            "\n"
          ]
        },
        {
          "output_type": "stream",
          "name": "stdout",
          "text": [
            "Downloading http://yann.lecun.com/exdb/mnist/t10k-labels-idx1-ubyte.gz to ./data/MNIST/raw/t10k-labels-idx1-ubyte.gz\n"
          ]
        },
        {
          "output_type": "stream",
          "name": "stderr",
          "text": [
            "100%|██████████| 4542/4542 [00:00<00:00, 17721422.11it/s]\n"
          ]
        },
        {
          "output_type": "stream",
          "name": "stdout",
          "text": [
            "Extracting ./data/MNIST/raw/t10k-labels-idx1-ubyte.gz to ./data/MNIST/raw\n",
            "\n"
          ]
        },
        {
          "output_type": "display_data",
          "data": {
            "text/plain": [
              "<Figure size 500x300 with 6 Axes>"
            ],
            "image/png": "[encoded data removed]"
          },
          "metadata": {}
        }
      ]
    },
    {
      "cell_type": "code",
      "source": [
        "# Preparing data for training with DataLoaders\n",
        "# hyper parameters\n",
        "input_size = 784 # 28x28\n",
        "hidden_size = 100\n",
        "n_classes = 10\n",
        "n_epochs = 2\n",
        "batch_size = 100\n",
        "learning_rate = 0.01\n",
        "\n",
        "# Data Loading\n",
        "train_loader = DataLoader(\n",
        "dataset=train_dataset,\n",
        "batch_size=batch_size,\n",
        "shuffle=True\n",
        ")\n",
        "\n",
        "test_loader = DataLoader(\n",
        "dataset=test_dataset,\n",
        "batch_size=batch_size,\n",
        "shuffle=True\n",
        ")\n",
        "\n",
        "# network\n",
        "class NeuralNet(nn.Module):\n",
        "  def __init__(self, input_size, hidden_size, n_classes):\n",
        "    super(NeuralNet, self).__init__()\n",
        "    self.linear_1 = nn.Linear(input_size, hidden_size)\n",
        "    self.linear_2 = nn.Linear(hidden_size, n_classes)\n",
        "    self.relu = nn.ReLU()\n",
        "\n",
        "  def forward(self, x):\n",
        "    x = self.relu(self.linear_1(x))\n",
        "    x = self.linear_2(x)\n",
        "    return x\n",
        "\n",
        "device = torch.device('cuda' if torch.cuda.is_available() else 'cpu') # for cuda\n",
        "#device = torch.device,('mps' if torch.backends.mps.is_available() else 'cpu') # for mps\n",
        "print(f'Using {device} device')\n",
        "\n",
        "\n",
        "\n",
        "\n",
        "\n",
        "model = NeuralNet(input_size, hidden_size, n_classes).to(device)\n",
        "print(model)\n",
        "\n",
        "\n",
        "\n",
        "# Initialize the loss function\n",
        "criterion = nn.CrossEntropyLoss()\n",
        "\n",
        "# Initialize the optimizer\n",
        "optimizer = torch.optim.Adam(model.parameters(), lr=learning_rate)\n",
        "#optimizer = torch.optim.SGD(model.parameters(), lr=learning_rate, momentum=0.9)\n",
        "\n",
        "\n",
        "# Train Loop\n",
        "n_steps = len(train_loader)\n",
        "for epoch in range(n_epochs):\n",
        "  for i, (images, labels) in enumerate(train_loader):\n",
        "    images = images.reshape(images.shape[0], -1).to(device)\n",
        "    labels = labels.to(device)\n",
        "    # forward pass and loss\n",
        "    outputs = model(images)\n",
        "    loss = criterion(outputs, labels)\n",
        "    # backward pass and update\n",
        "    optimizer.zero_grad()\n",
        "    loss.backward()\n",
        "    optimizer.step()\n",
        "    if (i+1)%100 == 0:\n",
        "      print(f'epoch {epoch+1}/{n_epochs},\\\n",
        "      step {i+1}/{n_steps}, loss = {loss.item():.4f}')\n",
        "\n",
        "\n",
        "\n",
        "# Test Loop\n",
        "with torch.no_grad():\n",
        "  n_correct = 0\n",
        "  n_samples = 0\n",
        "  for images, labels in test_loader:\n",
        "    images = images.reshape(images.shape[0], -1).to(device)\n",
        "    labels = labels.to(device)\n",
        "    outputs = model(images)\n",
        "    # value, index(cls_label)\n",
        "    _, predictions = torch.max(outputs, dim=1)\n",
        "    n_samples += labels.shape[0]\n",
        "    n_correct += (predictions == labels).sum().item() \n",
        "  acc = 100.0 * n_correct / n_samples\n",
        "  print(f'accuracy = {acc}')\n",
        "\n"
      ],
      "metadata": {
        "colab": {
          "base_uri": "https://localhost:8080/"
        },
        "id": "aCP04waWMf2Y",
        "outputId": "20b79216-3e26-4689-bbac-55e400ec5b23"
      },
      "execution_count": 29,
      "outputs": [
        {
          "output_type": "stream",
          "name": "stdout",
          "text": [
            "Using cuda device\n",
            "NeuralNet(\n",
            "  (linear_1): Linear(in_features=784, out_features=100, bias=True)\n",
            "  (linear_2): Linear(in_features=100, out_features=10, bias=True)\n",
            "  (relu): ReLU()\n",
            ")\n",
            "epoch 1/2,      step 100/600, loss = 0.5629\n",
            "epoch 1/2,      step 200/600, loss = 0.4913\n",
            "epoch 1/2,      step 300/600, loss = 0.3608\n",
            "epoch 1/2,      step 400/600, loss = 0.3261\n",
            "epoch 1/2,      step 500/600, loss = 0.3495\n",
            "epoch 1/2,      step 600/600, loss = 0.3251\n",
            "epoch 2/2,      step 100/600, loss = 0.2876\n",
            "epoch 2/2,      step 200/600, loss = 0.4255\n",
            "epoch 2/2,      step 300/600, loss = 0.3870\n",
            "epoch 2/2,      step 400/600, loss = 0.2300\n",
            "epoch 2/2,      step 500/600, loss = 0.3584\n",
            "epoch 2/2,      step 600/600, loss = 0.3777\n",
            "accuracy = 92.78\n"
          ]
        }
      ]
    },
    {
      "cell_type": "code",
      "source": [
        "# Inference the model\n",
        "# Get a test image from the dataset\n",
        "test_image, test_label = next(iter(test_loader))\n",
        "test_image, test_label = test_image.to(device), test_label.to(device)\n",
        "\n",
        "# Select a single image from the batch\n",
        "image_idx = 0\n",
        "test_image = test_image[image_idx].unsqueeze(0)\n",
        "test_label = test_label[image_idx].unsqueeze(0)\n",
        "\n",
        "# Make a prediction\n",
        "with torch.no_grad():\n",
        "  model.eval()\n",
        "  output = model(test_image.view(-1, 784))\n",
        "  _, predicted = torch.max(output.data, dim=1)\n",
        "\n",
        "# Plot the image with ground truth and predicted labels\n",
        "plt.imshow(test_image.cpu().view(28, 28), cmap='gray')\n",
        "plt.title(f\"Ground Truth Label: {test_label.item()}, \\\n",
        "Predicted Label: {predicted.item()}\")\n",
        "plt.show()"
      ],
      "metadata": {
        "colab": {
          "base_uri": "https://localhost:8080/",
          "height": 452
        },
        "id": "a1lqZFilQEes",
        "outputId": "bc4a4808-f1a3-4685-bb85-333958b31ddf"
      },
      "execution_count": 23,
      "outputs": [
        {
          "output_type": "display_data",
          "data": {
            "text/plain": [
              "<Figure size 640x480 with 1 Axes>"
            ],
            "image/png": "[encoded data removed]"
          },
          "metadata": {}
        }
      ]
    },
    {
      "cell_type": "code",
      "source": [
        "# Saving and Loading Model Weights\n",
        "import torchvision.models as models\n",
        "model = models.vgg16(pretrained=True)\n",
        "torch.save(model.state_dict(), 'model_weights.pth')\n"
      ],
      "metadata": {
        "colab": {
          "base_uri": "https://localhost:8080/"
        },
        "id": "fCUZ2hvJREwk",
        "outputId": "430a775b-9e16-40d7-de0d-7b64ed70ae0e"
      },
      "execution_count": 25,
      "outputs": [
        {
          "output_type": "stream",
          "name": "stderr",
          "text": [
            "/usr/local/lib/python3.10/dist-packages/torchvision/models/_utils.py:208: UserWarning: The parameter 'pretrained' is deprecated since 0.13 and may be removed in the future, please use 'weights' instead.\n",
            "  warnings.warn(\n",
            "/usr/local/lib/python3.10/dist-packages/torchvision/models/_utils.py:223: UserWarning: Arguments other than a weight enum or `None` for 'weights' are deprecated since 0.13 and may be removed in the future. The current behavior is equivalent to passing `weights=VGG16_Weights.IMAGENET1K_V1`. You can also use `weights=VGG16_Weights.DEFAULT` to get the most up-to-date weights.\n",
            "  warnings.warn(msg)\n",
            "Downloading: \"https://download.pytorch.org/models/vgg16-397923af.pth\" to /root/.cache/torch/hub/checkpoints/vgg16-397923af.pth\n",
            "100%|██████████| 528M/528M [00:02<00:00, 239MB/s]\n"
          ]
        }
      ]
    },
    {
      "cell_type": "code",
      "source": [
        "model = models.vgg16() # we do not specify weights, i.e. create untrained model\n",
        "model.load_state_dict(torch.load('model_weights.pth'))"
      ],
      "metadata": {
        "colab": {
          "base_uri": "https://localhost:8080/"
        },
        "id": "CfSConvJRPVP",
        "outputId": "c8356efe-6dad-452e-f316-284f883b5fff"
      },
      "execution_count": 26,
      "outputs": [
        {
          "output_type": "execute_result",
          "data": {
            "text/plain": [
              "<All keys matched successfully>"
            ]
          },
          "metadata": {},
          "execution_count": 26
        }
      ]
    },
    {
      "cell_type": "code",
      "source": [
        "# Saving and Loading Models with Shapes\n",
        "torch.save(model, 'model.pth')"
      ],
      "metadata": {
        "id": "KgK2vICzSGR7"
      },
      "execution_count": 27,
      "outputs": []
    },
    {
      "cell_type": "code",
      "source": [
        "# We can then load the model like this\n",
        "model = torch.load('model.pth')"
      ],
      "metadata": {
        "id": "Oe9puJCwSQjL"
      },
      "execution_count": 28,
      "outputs": []
    }
  ]
}